{
 "cells": [
  {
   "cell_type": "markdown",
   "metadata": {},
   "source": [
    "<img style=\"float: right; margin: 0px 0px 15px 15px;\" src=\"https://upload.wikimedia.org/wikipedia/commons/thumb/d/db/Logo_ITESO_normal.jpg/240px-Logo_ITESO_normal.jpg\" width=\"70px\" height=\"15px\" />\n",
    "#### Competing quantum effects in the dynamics of a flexible water model\n",
    "###### Scott Habershon, Thomas E. Markland and David E. Manolopoulos\n",
    " Cristian Villalobos\n",
    " Jorge Garcia\n",
    " Jesus Ibarra\n",
    " Valeria Méndez\n",
    "**  Modelado Molecular II (Dinámica molecular) **\n",
    "###### Cristian <Strong> Email: </Strong>  <font color=\"#8A0829\"> nt689692@iteso.mx </font>\n",
    "###### Jorge <Strong> Email: </Strong>  <font color=\"#8A0829\"> nt684938@iteso.mx </font>\n",
    "###### Jesus <Strong> Email: </Strong>  <font color=\"#8A0829\"> nt687420@iteso.mx </font>\n",
    "###### Valeria <Strong> Email: </Strong>  <font color=\"#8A0829\"> nt690764@iteso.mx </font>\n",
    "___"
   ]
  },
  {
   "cell_type": "markdown",
   "metadata": {},
   "source": [
    "___\n",
    "I. <Strong>Introducción </Strong>"
   ]
  },
  {
   "cell_type": "markdown",
   "metadata": {},
   "source": [
    "> <p style='text-align: justify;'> En este trabajo se van a analizar las propiedades del agua. Las principales caracteristicas y efectos que se quieren analizar son los efectos cuánticos que se pueden encontrar en estas moléculas.  </p>\n"
   ]
  },
  {
   "cell_type": "markdown",
   "metadata": {
    "collapsed": true
   },
   "source": [
    "___\n",
    "II. <Strong>Planteamiento </Strong>"
   ]
  },
  {
   "cell_type": "markdown",
   "metadata": {},
   "source": [
    "<Strong>Función de correlación</Strong>"
   ]
  },
  {
   "cell_type": "markdown",
   "metadata": {},
   "source": [
    "> <p style='text-align: justify;'>Es una integral de sobrelape (integrar el producto de dos funciones) entre una función cualquiera y otra desplazada en el tiempo o espacio).Si es entre funciones distintas se le llama correlación cruzada, si es con la misma función se le dice de autocorrelación (Ver imagen).La integral (nivel de correlación) toma valores altos si los picos y valles de cada función coinciden (o están muy cerca los unos de los otros). La función de correlación depende del desplazamiento de la variable independiente y no de la variable en sí, por lo que si el desplazamiento se hace muy grande, la función tiende a cero o a algún valor constante.</p>"
   ]
  },
  {
   "cell_type": "markdown",
   "metadata": {},
   "source": [
    "<Strong>MonteCarloBarostat</Strong>"
   ]
  },
  {
   "cell_type": "markdown",
   "metadata": {},
   "source": [
    "> <p style='text-align: justify;'> El modelo montecarlo consiste en modelar la presion constante y va modificando el tamaño de la caja a traves del tiempo. En periodes regulares  se realiza un cambio en la escala del tamaño de la caja y se modifican sus vectores por un factor $s$. El factor de escala elgegido cambia el volumen de las cajgas de un valor $V$ a $V+\\delta V$ :\n",
    " </p> $s=\\left ( \\frac{V+\\delta V}{V} \\right )^{1/3}$\n",
    "> <p style='text-align: justify;'> El cambio realizado es totalmente aleatorio y se realiza de la siguiente forma:\n",
    "$\\mathbf{\\delta V=A\\cdot r}$\n",
    "\n",
    "> <p style='text-align: justify;'> Donde $A$ es el factor de escala y $r$ es un numero aleatorio entre -1 y 1 la decision para que se acepte el paso depende de la funcion de peso. <\\p>\n",
    "$\\mathbf{\\Delta W}=\\mathbf{\\Delta E}+\\mathbf{P\\delta V}-\\mathbf{Nk_{b}Tln(\\left (\\frac{V+\\delta V}{V}  \\right )}$\n",
    "\n",
    "> <p style='text-align: justify;'> Donde $\\delta E$ es el cambio que existe en la energia potencial que se tiene por el paso, P es presion, N el numero de moleculas, $k_{b}$ es la constante de Boltzman, y T es la temperatura. Para que se accepte un paso se tienen las siguentes condiciones,si $\\Delta W \\leqslant 0$ se acepta el paso. Pero si $\\Delta W>0$, con este peso aun se tiene algo de probabilidad de que sea aceptado pero depende tiene esta probabilidad $e^{-\\Delta W / k_{b}T}$. Una de las caracteristicas del Monte Carlo\n",
    "> <p style='text-align: justify;'> \n"
   ]
  },
  {
   "cell_type": "markdown",
   "metadata": {
    "collapsed": true
   },
   "source": [
    "<Strong>AndersenThermostat</Strong>"
   ]
  },
  {
   "cell_type": "markdown",
   "metadata": {},
   "source": [
    "> <p style='text-align: justify;'> La funcion AndersenThermostat hace que al sistema se le tenga un baño de calor. Se seleccionan al azar un subconjunto de particulas y a cada paso obtendran un nuevo valor de la velocidad la cual esta dada por la distribucion de Boltzman $f(v)=\\sqrt{\\left (\\frac{m}{2\\pi  K T}  \\right )^{3}}4\\pi v^{2}e^{\\frac{mv^{2}}{2KT}}$\n",
    "\n",
    "> <p style='text-align: justify;'>  Para saber la probabilidad de que exista una colision por cada paso es $P=1-e^{-f \\Delta t}$ \n",
    "> <p style='text-align: justify;'> donde f es la frecuencia de colision y $\\Delta t$ es el paso. Por lo cual cada componente de la velocidad esta dada por $v_{i}=\\sqrt{\\frac{k_{b}T}{m}}R$"
   ]
  },
  {
   "cell_type": "markdown",
   "metadata": {},
   "source": [
    "<Strong>RPMD: Ring-polymer molecular dynamics</Strong>"
   ]
  },
  {
   "cell_type": "markdown",
   "metadata": {},
   "source": [
    "> <p style='text-align: justify;'> El analisis RPMD ayuda a apreciar los effectos quanticos en la simulación molecular. Para calcular el equilibrio estatico lo que realiza es minimizar la integral de linea para ver las flucuaciones cuanticas.\n",
    "> <p style='text-align: justify;'> Para un potencial clasico se tiene lo siguiente:\n",
    "$H=\\sum_{k=1}^{n}\\left ( \\frac{p_{k}^{2}}{2m}+E\\left ( q_{k} \\right ) +\\frac{m\\left ( k_{b} T_{n}\\right )^{2}}{2 \\hbar}\\left ( q_{k}-q_{k-1} \\right )^{2}\\right )$\n",
    "> <p style='text-align: justify;'> En este potencial se tiene un sistema classico de anillos de polimeros en los cuales el sistema esta unido por un oscilador harmonico. Donde la extencion del anillo de polimero esta relacionada a la longitud termica de onda de De Borglie.\n",
    "> <p style='text-align: justify;'> Los calculos deben de converger con los numeros de pasos usados en la simulacion. Para poder saber cuantos pasos pueden ser usados para la se utiliza la siguente aproximacion.\n",
    "$n>\\frac{\\hbar \\omega _{max}}{k_{b}T}$"
   ]
  },
  {
   "cell_type": "markdown",
   "metadata": {},
   "source": [
    "III. <Strong>  Resultados </Strong> "
   ]
  },
  {
   "cell_type": "markdown",
   "metadata": {},
   "source": [
    "- Básicamente las figuras 1,2,3 y 4. \n",
    "- Explicar de manera general como funciona el codigo propuesto para la solución a dicho problema. \n",
    "- Presentar resultados generados por el programa. \n",
    "- Discutir y analizar los resultados. \n"
   ]
  },
  {
   "cell_type": "markdown",
   "metadata": {},
   "source": [
    " <Strong> Funciones de distribución radial (RDF) </Strong>"
   ]
  },
  {
   "cell_type": "markdown",
   "metadata": {},
   "source": [
    "![title](oo.PNG)"
   ]
  },
  {
   "cell_type": "markdown",
   "metadata": {},
   "source": [
    "![title](oh.PNG)"
   ]
  },
  {
   "cell_type": "markdown",
   "metadata": {},
   "source": [
    "![title](hh.PNG)"
   ]
  },
  {
   "cell_type": "markdown",
   "metadata": {},
   "source": [
    "<Strong>Densidad como funcion de la temperatura</Strong>"
   ]
  },
  {
   "cell_type": "markdown",
   "metadata": {},
   "source": [
    "![image](dens_temp.png)"
   ]
  },
  {
   "cell_type": "markdown",
   "metadata": {},
   "source": [
    "<Strong>Densidad como funcion del tiempo para 275, 312 y 325 K </Strong>"
   ]
  },
  {
   "cell_type": "markdown",
   "metadata": {},
   "source": [
    "![image](tiempo275.png)"
   ]
  },
  {
   "cell_type": "markdown",
   "metadata": {},
   "source": [
    "![image](tiempo312.png)"
   ]
  },
  {
   "cell_type": "markdown",
   "metadata": {},
   "source": [
    "![image](tiempo325.png)"
   ]
  },
  {
   "cell_type": "markdown",
   "metadata": {},
   "source": [
    "IV. <Strong>  Conclusiones </Strong> "
   ]
  },
  {
   "cell_type": "markdown",
   "metadata": {},
   "source": [
    "... Por favor en este espacio expresar de manera muy general sus conclusiones... \n"
   ]
  },
  {
   "cell_type": "markdown",
   "metadata": {},
   "source": [
    "V. <Strong>  Referencias </Strong> "
   ]
  },
  {
   "cell_type": "markdown",
   "metadata": {},
   "source": [
    "Guía OpenMM: http://docs.openmm.org/7.0.0/userguide/index.html \n",
    "Documentación OpenMM: http://docs.openmm.org/6.1.0/userguide/genindex.html\n",
    "RPMDMonteCarloBarostat: http://docs.openmm.org/7.0.0/api-python/generated/simtk.openmm.openmm.RPMDMonteCarloBarostat.html"
   ]
  },
  {
   "cell_type": "code",
   "execution_count": 1,
   "metadata": {
    "collapsed": false
   },
   "outputs": [],
   "source": [
    "import seaborn as sns\n",
    "sns.set(style='ticks', palette='Set2')"
   ]
  },
  {
   "cell_type": "code",
   "execution_count": 1,
   "metadata": {
    "collapsed": false
   },
   "outputs": [
    {
     "data": {
      "text/html": [
       "<link href='http://fonts.googleapis.com/css?family=Alegreya+Sans:100,300,400,500,700,800,900,100italic,300italic,400italic,500italic,700italic,800italic,900italic' rel='stylesheet' type='text/css'>\n",
       "<link href='http://fonts.googleapis.com/css?family=Arvo:400,700,400italic' rel='stylesheet' type='text/css'>\n",
       "<link href='http://fonts.googleapis.com/css?family=PT+Mono' rel='stylesheet' type='text/css'>\n",
       "<link href='http://fonts.googleapis.com/css?family=Shadows+Into+Light' rel='stylesheet' type='text/css'>\n",
       "<link href='http://fonts.googleapis.com/css?family=Nixie+One' rel='stylesheet' type='text/css'>\n",
       "<link href='https://fonts.googleapis.com/css?family=Source+Code+Pro' rel='stylesheet' type='text/css'>\n",
       "<style>\n",
       "\n",
       "@font-face {\n",
       "    font-family: \"Computer Modern\";\n",
       "    src: url('http://mirrors.ctan.org/fonts/cm-unicode/fonts/otf/cmunss.otf');\n",
       "}\n",
       "\n",
       "#notebook_panel { /* main background */\n",
       "    background: rgb(245,245,245);\n",
       "}\n",
       "\n",
       "div.cell { /* set cell width */\n",
       "    width: 750px;\n",
       "}\n",
       "\n",
       "div #notebook { /* centre the content */\n",
       "    background: #fff; /* white background for content */\n",
       "    width: 1000px;\n",
       "    margin: auto;\n",
       "    padding-left: 0em;\n",
       "}\n",
       "\n",
       "#notebook li { /* More space between bullet points */\n",
       "    margin-top:0.8em;\n",
       "}\n",
       "\n",
       "/* draw border around running cells */\n",
       "div.cell.border-box-sizing.code_cell.running { \n",
       "    border: 1px solid #111;\n",
       "}\n",
       "\n",
       "/* Put a solid color box around each cell and its output, visually linking them*/\n",
       "div.cell.code_cell {\n",
       "    background-color: rgb(256,256,256); \n",
       "    border-radius: 0px; \n",
       "    padding: 0.5em;\n",
       "    margin-left:1em;\n",
       "    margin-top: 1em;\n",
       "}\n",
       "\n",
       "div.text_cell_render{\n",
       "    font-family: 'Alegreya Sans' sans-serif;\n",
       "    line-height: 140%;\n",
       "    font-size: 125%;\n",
       "    font-weight: 400;\n",
       "    width:600px;\n",
       "    margin-left:auto;\n",
       "    margin-right:auto;\n",
       "}\n",
       "\n",
       "\n",
       "/* Formatting for header cells */\n",
       ".text_cell_render h1 {\n",
       "    font-family: 'Nixie One', serif;\n",
       "    font-style:regular;\n",
       "    font-weight: 400;    \n",
       "    font-size: 45pt;\n",
       "    line-height: 100%;\n",
       "    color: rgb(0,51,102);\n",
       "    margin-bottom: 0.5em;\n",
       "    margin-top: 0.5em;\n",
       "    display: block;\n",
       "}\n",
       "\n",
       ".text_cell_render h2 {\n",
       "    font-family: 'Nixie One', serif;\n",
       "    font-weight: 400;\n",
       "    font-size: 30pt;\n",
       "    line-height: 100%;\n",
       "    color: rgb(0,51,102);\n",
       "    margin-bottom: 0.1em;\n",
       "    margin-top: 0.3em;\n",
       "    display: block;\n",
       "}\t\n",
       "\n",
       ".text_cell_render h3 {\n",
       "    font-family: 'Nixie One', serif;\n",
       "    margin-top:16px;\n",
       "    font-size: 22pt;\n",
       "    font-weight: 600;\n",
       "    margin-bottom: 3px;\n",
       "    font-style: regular;\n",
       "    color: rgb(102,102,0);\n",
       "}\n",
       "\n",
       ".text_cell_render h4 {    /*Use this for captions*/\n",
       "    font-family: 'Nixie One', serif;\n",
       "    font-size: 14pt;\n",
       "    text-align: center;\n",
       "    margin-top: 0em;\n",
       "    margin-bottom: 2em;\n",
       "    font-style: regular;\n",
       "}\n",
       "\n",
       ".text_cell_render h5 {  /*Use this for small titles*/\n",
       "    font-family: 'Nixie One', sans-serif;\n",
       "    font-weight: 400;\n",
       "    font-size: 16pt;\n",
       "    color: rgb(163,0,0);\n",
       "    font-style: italic;\n",
       "    margin-bottom: .1em;\n",
       "    margin-top: 0.8em;\n",
       "    display: block;\n",
       "}\n",
       "\n",
       ".text_cell_render h6 { /*use this for copyright note*/\n",
       "    font-family: 'PT Mono', sans-serif;\n",
       "    font-weight: 300;\n",
       "    font-size: 9pt;\n",
       "    line-height: 100%;\n",
       "    color: grey;\n",
       "    margin-bottom: 1px;\n",
       "    margin-top: 1px;\n",
       "}\n",
       "\n",
       ".CodeMirror{\n",
       "    font-family: \"Source Code Pro\";\n",
       "    font-size: 90%;\n",
       "}\n",
       "\n",
       ".alert-box {\n",
       "    padding:10px 10px 10px 36px;\n",
       "    margin:5px;\n",
       "}\n",
       "\n",
       ".success {\n",
       "    color:#666600;\n",
       "    background:rgb(240,242,229);\n",
       "}\n",
       "</style>\n",
       "<script>\n",
       "    MathJax.Hub.Config({\n",
       "                        TeX: {\n",
       "                           extensions: [\"AMSmath.js\"],\n",
       "                           equationNumbers: { autoNumber: \"AMS\", useLabelIds: true}\n",
       "                           },\n",
       "                tex2jax: {\n",
       "                    inlineMath: [ ['$','$'], [\"\\\\(\",\"\\\\)\"] ],\n",
       "                    displayMath: [ ['$$','$$'], [\"\\\\[\",\"\\\\]\"] ]\n",
       "                },\n",
       "                displayAlign: 'center', // Change this to 'center' to center equations.\n",
       "                \"HTML-CSS\": {\n",
       "                    styles: {'.MathJax_Display': {\"margin\": 4}}\n",
       "                }\n",
       "        });\n",
       "</script>\n"
      ],
      "text/plain": [
       "<IPython.core.display.HTML object>"
      ]
     },
     "execution_count": 1,
     "metadata": {},
     "output_type": "execute_result"
    }
   ],
   "source": [
    "from IPython.core.display import HTML\n",
    "def css_styling():\n",
    "    styles = open(\"numericalmoocstyle.css\", \"r\").read()\n",
    "    return HTML(styles)\n",
    "css_styling()"
   ]
  },
  {
   "cell_type": "code",
   "execution_count": null,
   "metadata": {
    "collapsed": true
   },
   "outputs": [],
   "source": []
  }
 ],
 "metadata": {
  "anaconda-cloud": {},
  "kernelspec": {
   "display_name": "Python [Root]",
   "language": "python",
   "name": "Python [Root]"
  },
  "language_info": {
   "codemirror_mode": {
    "name": "ipython",
    "version": 3
   },
   "file_extension": ".py",
   "mimetype": "text/x-python",
   "name": "python",
   "nbconvert_exporter": "python",
   "pygments_lexer": "ipython3",
   "version": "3.5.2"
  }
 },
 "nbformat": 4,
 "nbformat_minor": 0
}
